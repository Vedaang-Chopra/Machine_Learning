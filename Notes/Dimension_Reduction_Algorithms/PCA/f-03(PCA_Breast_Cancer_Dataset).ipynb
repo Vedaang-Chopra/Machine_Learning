{
 "cells": [
  {
   "cell_type": "code",
   "execution_count": 1,
   "metadata": {},
   "outputs": [],
   "source": [
    "import numpy as np\n",
    "import pandas as pd\n",
    "import matplotlib.pyplot as plt\n",
    "import seaborn as sns"
   ]
  },
  {
   "cell_type": "code",
   "execution_count": 10,
   "metadata": {},
   "outputs": [],
   "source": [
    "from sklearn import decomposition, ensemble, datasets, linear_model\n",
    "from sklearn.preprocessing import StandardScaler\n",
    "from sklearn.model_selection import train_test_split\n",
    "import time"
   ]
  },
  {
   "cell_type": "code",
   "execution_count": 4,
   "metadata": {},
   "outputs": [
    {
     "name": "stdout",
     "output_type": "stream",
     "text": [
      "(569, 30)\n"
     ]
    }
   ],
   "source": [
    "#  Loading Breast Cancer Dataset...............\n",
    "breast_cancer_data=datasets.load_breast_cancer()\n",
    "x=breast_cancer_data.data\n",
    "print(x.shape)"
   ]
  },
  {
   "cell_type": "code",
   "execution_count": 6,
   "metadata": {},
   "outputs": [],
   "source": [
    "#  Normalizing all the features of breast cancer dataset, before PCA and Classification\n",
    "sc=StandardScaler()\n",
    "X_std=sc.fit_transform(x)"
   ]
  },
  {
   "cell_type": "code",
   "execution_count": 8,
   "metadata": {},
   "outputs": [],
   "source": [
    "# Splitting Data into Training and Testing..................\n",
    "x_train, x_test, y_train, y_test =train_test_split(X_std,breast_cancer_data.target,random_state=0)"
   ]
  },
  {
   "cell_type": "code",
   "execution_count": 14,
   "metadata": {},
   "outputs": [
    {
     "data": {
      "text/plain": [
       "((426, 30), (426, 15))"
      ]
     },
     "execution_count": 14,
     "metadata": {},
     "output_type": "execute_result"
    }
   ],
   "source": [
    "#  Applying PCA on dataset.................\n",
    "pca=decomposition.PCA(n_components=15)\n",
    "x_train_pca=pca.fit_transform(x_train)\n",
    "x_test_pca=pca.transform(x_test)\n",
    "x_train.shape,x_train_pca.shape"
   ]
  },
  {
   "cell_type": "code",
   "execution_count": 11,
   "metadata": {},
   "outputs": [
    {
     "name": "stdout",
     "output_type": "stream",
     "text": [
      "0.965034965034965\n",
      "Total Time Taken: 0.031011104583740234\n"
     ]
    }
   ],
   "source": [
    "#  Applying Logistic Regression on Normal dataset and checking time taken vs accuracy of model\n",
    "start_time=time.time()\n",
    "lr=linear_model.LogisticRegression()\n",
    "lr.fit(x_train,y_train)\n",
    "print(lr.score(x_test,y_test))\n",
    "print(\"Total Time Taken:\",time.time()-start_time)"
   ]
  },
  {
   "cell_type": "code",
   "execution_count": 13,
   "metadata": {},
   "outputs": [
    {
     "name": "stdout",
     "output_type": "stream",
     "text": [
      "0.958041958041958\n",
      "Total Time Taken: 0.009973287582397461\n"
     ]
    }
   ],
   "source": [
    "#  Applying Logistic Regression on PCA Scaled dataset and checking time taken vs accuracy of model\n",
    "start_time=time.time()\n",
    "lr_pca=linear_model.LogisticRegression()\n",
    "lr_pca.fit(x_train_pca,y_train)\n",
    "print(lr_pca.score(x_test_pca,y_test))\n",
    "print(\"Total Time Taken:\",time.time()-start_time)"
   ]
  },
  {
   "cell_type": "code",
   "execution_count": 16,
   "metadata": {},
   "outputs": [
    {
     "name": "stdout",
     "output_type": "stream",
     "text": [
      "[13.02746837  5.81556555  2.85848795  1.91901713  1.70021491  1.20663908\n",
      "  0.65333715  0.42673847  0.42645054  0.34558986  0.30805491  0.25605447\n",
      "  0.228152    0.14326274  0.0926283 ]\n"
     ]
    }
   ],
   "source": [
    "#  Eigen Vectors...........\n",
    "pca.components_\n",
    "#  Eigen Values...............\n",
    "print(pca.explained_variance_)"
   ]
  },
  {
   "cell_type": "code",
   "execution_count": null,
   "metadata": {},
   "outputs": [],
   "source": []
  },
  {
   "cell_type": "code",
   "execution_count": null,
   "metadata": {},
   "outputs": [],
   "source": []
  },
  {
   "cell_type": "code",
   "execution_count": null,
   "metadata": {},
   "outputs": [],
   "source": []
  }
 ],
 "metadata": {
  "interpreter": {
   "hash": "ed99d7d0aaa497aa67d7d9f4f636af1d529477fa95da14b096776f42ebe05bfa"
  },
  "kernelspec": {
   "display_name": "Python 3.8.8 ('base')",
   "language": "python",
   "name": "python3"
  },
  "language_info": {
   "codemirror_mode": {
    "name": "ipython",
    "version": 3
   },
   "file_extension": ".py",
   "mimetype": "text/x-python",
   "name": "python",
   "nbconvert_exporter": "python",
   "pygments_lexer": "ipython3",
   "version": "3.8.8"
  },
  "orig_nbformat": 4
 },
 "nbformat": 4,
 "nbformat_minor": 2
}
