{
 "cells": [
  {
   "cell_type": "code",
   "execution_count": 1,
   "metadata": {},
   "outputs": [],
   "source": [
    "import numpy as np\n",
    "import pandas as pd\n",
    "import matplotlib.pyplot as plt\n",
    "import seaborn as sns"
   ]
  },
  {
   "cell_type": "code",
   "execution_count": 2,
   "metadata": {},
   "outputs": [],
   "source": [
    "from sklearn import decomposition, ensemble, datasets, linear_model\n",
    "from sklearn.preprocessing import StandardScaler\n",
    "from sklearn.model_selection import train_test_split\n",
    "import time"
   ]
  },
  {
   "cell_type": "code",
   "execution_count": 3,
   "metadata": {},
   "outputs": [
    {
     "name": "stdout",
     "output_type": "stream",
     "text": [
      "(569, 30)\n"
     ]
    }
   ],
   "source": [
    "#  Loading Breast Cancer Dataset...............\n",
    "breast_cancer_data=datasets.load_breast_cancer()\n",
    "x=breast_cancer_data.data\n",
    "print(x.shape)"
   ]
  },
  {
   "cell_type": "code",
   "execution_count": 4,
   "metadata": {},
   "outputs": [],
   "source": [
    "#  Normalizing all the features of breast cancer dataset, before PCA and Classification\n",
    "sc=StandardScaler()\n",
    "X_std=sc.fit_transform(x)"
   ]
  },
  {
   "cell_type": "code",
   "execution_count": 5,
   "metadata": {},
   "outputs": [],
   "source": [
    "# Splitting Data into Training and Testing..................\n",
    "x_train, x_test, y_train, y_test =train_test_split(X_std,breast_cancer_data.target,random_state=0)"
   ]
  },
  {
   "cell_type": "code",
   "execution_count": 6,
   "metadata": {},
   "outputs": [
    {
     "data": {
      "text/plain": [
       "((426, 30), (426, 30))"
      ]
     },
     "execution_count": 6,
     "metadata": {},
     "output_type": "execute_result"
    }
   ],
   "source": [
    "#  Applying PCA on dataset, keeping all features in number of components.................\n",
    "pca=decomposition.PCA(n_components=x_train.shape[1])\n",
    "x_train_pca=pca.fit_transform(x_train)\n",
    "x_test_pca=pca.transform(x_test)\n",
    "x_train.shape,x_train_pca.shape"
   ]
  },
  {
   "cell_type": "code",
   "execution_count": 7,
   "metadata": {},
   "outputs": [
    {
     "name": "stdout",
     "output_type": "stream",
     "text": [
      "[1.30274684e+01 5.81556555e+00 2.85848795e+00 1.91901713e+00\n",
      " 1.70021491e+00 1.20663908e+00 6.53337152e-01 4.26738474e-01\n",
      " 4.26450541e-01 3.45589858e-01 3.08054910e-01 2.56054468e-01\n",
      " 2.28152003e-01 1.43262745e-01 9.26283031e-02 7.80260477e-02\n",
      " 6.13812037e-02 5.26182531e-02 4.50933578e-02 3.08275366e-02\n",
      " 3.03277956e-02 2.51390631e-02 2.12226717e-02 1.77427715e-02\n",
      " 1.63886382e-02 7.83681541e-03 6.61084728e-03 1.45257891e-03\n",
      " 7.98794510e-04 1.11908784e-04]\n"
     ]
    }
   ],
   "source": [
    "#  Eigne Values.......\n",
    "print(pca.explained_variance_)"
   ]
  },
  {
   "cell_type": "code",
   "execution_count": 9,
   "metadata": {},
   "outputs": [
    {
     "name": "stdout",
     "output_type": "stream",
     "text": [
      "NMumber of Components needed for 99% variance: 17\n"
     ]
    }
   ],
   "source": [
    "# Let's say we decide to keep 99% variance of our data..................\n",
    "THRESHOLD_VARIANCE=99\n",
    "total_variance=pca.explained_variance_.sum()\n",
    "k=0     # Number of Components ................\n",
    "current_variance=0\n",
    "while (current_variance/total_variance)*100 <=THRESHOLD_VARIANCE:\n",
    "    current_variance+=pca.explained_variance_[k]\n",
    "    k=k+1\n",
    "print(\"Number of Components needed for 99% variance:\",k)\n",
    "#  With this we find the optimal value of K...................."
   ]
  },
  {
   "cell_type": "code",
   "execution_count": 10,
   "metadata": {},
   "outputs": [
    {
     "name": "stdout",
     "output_type": "stream",
     "text": [
      "0.958041958041958\n",
      "Total Time Taken: 0.02993917465209961\n"
     ]
    }
   ],
   "source": [
    "#  Applying Logistic Regression on PCA with Optimal K Value, keeping with some Percentage of Variance...\n",
    "# After finding the optimal number of K, we need to apply PCA again\n",
    "start_time=time.time()\n",
    "lr_pca=linear_model.LogisticRegression()\n",
    "pca_optima=decomposition.PCA(n_components=k)\n",
    "x_train_pca_optimal=pca_optima.fit_transform(x_train)\n",
    "x_test_pca_optimal=pca_optima.transform(x_test)\n",
    "lr_pca.fit(x_train_pca_optimal,y_train)\n",
    "print(lr_pca.score(x_test_pca_optimal,y_test))\n",
    "print(\"Total Time Taken:\",time.time()-start_time)"
   ]
  }
 ],
 "metadata": {
  "interpreter": {
   "hash": "ed99d7d0aaa497aa67d7d9f4f636af1d529477fa95da14b096776f42ebe05bfa"
  },
  "kernelspec": {
   "display_name": "Python 3.8.8 ('base')",
   "language": "python",
   "name": "python3"
  },
  "language_info": {
   "codemirror_mode": {
    "name": "ipython",
    "version": 3
   },
   "file_extension": ".py",
   "mimetype": "text/x-python",
   "name": "python",
   "nbconvert_exporter": "python",
   "pygments_lexer": "ipython3",
   "version": "3.8.8"
  },
  "orig_nbformat": 4
 },
 "nbformat": 4,
 "nbformat_minor": 2
}
