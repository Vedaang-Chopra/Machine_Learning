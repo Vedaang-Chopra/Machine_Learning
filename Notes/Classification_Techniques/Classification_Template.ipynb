{
 "cells": [
  {
   "cell_type": "code",
   "execution_count": 1,
   "metadata": {},
   "outputs": [],
   "source": [
    "# The Following is a Template Format for SVM Classifier............"
   ]
  },
  {
   "cell_type": "code",
   "execution_count": 3,
   "metadata": {},
   "outputs": [],
   "source": [
    "import numpy as np\n",
    "# Importing SVM Classifier\n",
    "from sklearn.svm import SVC\n",
    "import matplotlib.pyplot as plt"
   ]
  },
  {
   "cell_type": "code",
   "execution_count": 4,
   "metadata": {},
   "outputs": [],
   "source": [
    "x=np.array([[1,1],[2,1],[1,2],[1.5,1.5],[3,4],[2,5],[4,3],[7,2],[3,5],[2,6],[6,2],[3,5],[4,4]])\n",
    "y=[0,0,0,0,1,1,1,1,1,1,1,1,1]"
   ]
  },
  {
   "cell_type": "code",
   "execution_count": 5,
   "metadata": {},
   "outputs": [
    {
     "data": {
      "image/png": "[encoded data removed]",
      "text/plain": [
       "<Figure size 432x288 with 1 Axes>"
      ]
     },
     "metadata": {
      "needs_background": "light"
     },
     "output_type": "display_data"
    }
   ],
   "source": [
    "x_x1=x[:,0]\n",
    "x_x2=x[:,1]\n",
    "# print(x_x1)\n",
    "plt.scatter(x_x1,x_x2,c=y)\n",
    "plt.show()"
   ]
  },
  {
   "cell_type": "code",
   "execution_count": 1,
   "metadata": {},
   "outputs": [],
   "source": [
    "class Classification_Classfiers:\n",
    "    def SVM_classifier(self,x_train,x_test,y_train,y_test):\n",
    "        model=svm.SVC()\n",
    "        model.fit(x_train,y_train)\n",
    "        y_pred = model.predict(x_test)\n",
    "        print(classification_report(y_test,y_pred))\n",
    "        print(confusion_matrix(y_test, y_pred))\n",
    "        print('F1-Score:', f1_score(y_test, y_pred, average='weighted'))\n",
    "        \n",
    "    def KNN_classifier(self,x_train,x_test,y_train,y_test):\n",
    "        model= KNeighborsClassifier()\n",
    "        model.fit(x_train,y_train)\n",
    "        y_pred = model.predict(x_test)\n",
    "        print(classification_report(y_test,y_pred))\n",
    "        print(confusion_matrix(y_test, model.predict(x_test)))\n",
    "        print('F1-Score:', f1_score(y_test, y_pred, average='weighted'))\n",
    "\n",
    "        \n",
    "    def Logistic_Regresion_classifier(self,x_train,x_test,y_train,y_test):\n",
    "        \n",
    "    def Gaussian_Naive_Bayes_classifier(self,x_train,x_test,y_train,y_test):\n",
    "        model = GaussianNB()\n",
    "        model.fit(x_train, y_train)\n",
    "        y_pred = model.predict(x_test)\n",
    "        print(classification_report(y_test,y_pred))\n",
    "        print(confusion_matrix(y_test,y_pred))\n",
    "        print('F1-Score:', f1_score(y_test, y_pred, average='weighted'))\n",
    "    \n",
    "    \n",
    "    def Decision_Tree_classifier(self,x_train,x_test,y_train,y_test):\n",
    "    def Random_Forest_classifier(self,x_train,x_test,y_train,y_test):\n",
    "    def Ada_Boost_classifier(self,x_train,x_test,y_train,y_test):\n",
    "    def Gradient_Boost_classifier(self,x_train,x_test,y_train,y_test):\n",
    "    def XG_Boost_classifier(self,x_train,x_test,y_train,y_test):\n",
    "    \n",
    "    \n",
    "    \n",
    "    "
   ]
  },
  {
   "cell_type": "code",
   "execution_count": null,
   "metadata": {},
   "outputs": [],
   "source": []
  },
  {
   "cell_type": "code",
   "execution_count": null,
   "metadata": {},
   "outputs": [],
   "source": []
  },
  {
   "cell_type": "code",
   "execution_count": null,
   "metadata": {},
   "outputs": [],
   "source": []
  },
  {
   "cell_type": "code",
   "execution_count": null,
   "metadata": {},
   "outputs": [],
   "source": []
  },
  {
   "cell_type": "code",
   "execution_count": null,
   "metadata": {},
   "outputs": [],
   "source": []
  },
  {
   "cell_type": "code",
   "execution_count": null,
   "metadata": {},
   "outputs": [],
   "source": []
  },
  {
   "cell_type": "code",
   "execution_count": null,
   "metadata": {},
   "outputs": [],
   "source": []
  },
  {
   "cell_type": "code",
   "execution_count": null,
   "metadata": {},
   "outputs": [],
   "source": []
  }
 ],
 "metadata": {
  "kernelspec": {
   "display_name": "Python 3",
   "language": "python",
   "name": "python3"
  },
  "language_info": {
   "codemirror_mode": {
    "name": "ipython",
    "version": 3
   },
   "file_extension": ".py",
   "mimetype": "text/x-python",
   "name": "python",
   "nbconvert_exporter": "python",
   "pygments_lexer": "ipython3",
   "version": "3.7.1"
  }
 },
 "nbformat": 4,
 "nbformat_minor": 2
}
