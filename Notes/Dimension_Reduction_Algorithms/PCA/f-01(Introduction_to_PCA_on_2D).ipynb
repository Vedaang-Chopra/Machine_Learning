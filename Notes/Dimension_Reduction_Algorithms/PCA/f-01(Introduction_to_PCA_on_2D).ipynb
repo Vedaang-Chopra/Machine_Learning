{
 "cells": [
  {
   "cell_type": "code",
   "execution_count": 1,
   "metadata": {},
   "outputs": [],
   "source": [
    "# Applying PCA on two dimensional dummy data .............................\n",
    "\n",
    "# PCA focuses only the data and not the output labels.\n",
    "# Note: Reduction is always dependent on data. Which features to reduce, and how much information will be lost is dependent on the dataset.\n",
    "import numpy as np\n",
    "from sklearn.decomposition import PCA\n",
    "from matplotlib import pyplot as plt"
   ]
  },
  {
   "cell_type": "code",
   "execution_count": 2,
   "metadata": {},
   "outputs": [
    {
     "data": {
      "image/png": "[encoded data removed]",
      "text/plain": [
       "<Figure size 432x288 with 1 Axes>"
      ]
     },
     "metadata": {
      "needs_background": "light"
     },
     "output_type": "display_data"
    }
   ],
   "source": [
    "# Using PCA on 2-Dimensional Data.....................\n",
    "# Plotting random/dummy 2-D data..........\n",
    "x1 = np.array([1,2,3,4,5,6])\n",
    "x2 = np.array([7.5, 11, 16, 18, 20, 26])\n",
    "plt.scatter(x1, x2)\n",
    "plt.show()"
   ]
  },
  {
   "cell_type": "code",
   "execution_count": 3,
   "metadata": {},
   "outputs": [],
   "source": [
    "# Concatenating the two single feature arrays for 2-D data. It is done to create a two dimensional dataset(x1, x2 as features).\n",
    "X = np.c_[x1, x2]           # Concatenate function,combines two lists."
   ]
  },
  {
   "cell_type": "code",
   "execution_count": 4,
   "metadata": {},
   "outputs": [],
   "source": [
    "# Creating the PCA object.....\n",
    "# n_components: This parameter specifies how many features we need finally. If n_components is not passed then the no. of new dimensions is same as no of original features.\n",
    "# Here we can try any number of feature values less than equal to the total number of features we originally had.\n",
    "pca = PCA(n_components = 1)\n",
    "pca_default= PCA()"
   ]
  },
  {
   "cell_type": "code",
   "execution_count": 5,
   "metadata": {},
   "outputs": [
    {
     "name": "stdout",
     "output_type": "stream",
     "text": [
      "[[-9.26049952]\n",
      " [-5.62047228]\n",
      " [-0.53656217]\n",
      " [ 1.65958219]\n",
      " [ 3.85572654]\n",
      " [ 9.90222524]]\n"
     ]
    }
   ],
   "source": [
    "# Here when we fit we try to find a line that finds a best line for the data.\n",
    "# With transform function we transform the data according to x1' and x2' features. These new values are according to new directions.\n",
    "X_reduced = pca.fit_transform(X)\n",
    "print(X_reduced)"
   ]
  },
  {
   "cell_type": "code",
   "execution_count": 6,
   "metadata": {},
   "outputs": [
    {
     "name": "stdout",
     "output_type": "stream",
     "text": [
      "[[-9.26049952e+00  9.65263430e-03]\n",
      " [-5.62047228e+00  2.38560598e-02]\n",
      " [-5.36562171e-01 -3.68391297e-01]\n",
      " [ 1.65958219e+00  5.22629108e-02]\n",
      " [ 3.85572654e+00  4.72917119e-01]\n",
      " [ 9.90222524e+00 -1.90297426e-01]]\n"
     ]
    }
   ],
   "source": [
    "X_reduced_default = pca_default.fit_transform(X)\n",
    "print(X_reduced_default)"
   ]
  },
  {
   "cell_type": "code",
   "execution_count": 7,
   "metadata": {},
   "outputs": [
    {
     "name": "stdout",
     "output_type": "stream",
     "text": [
      "[[0.27096719 0.96258858]]\n"
     ]
    }
   ],
   "source": [
    "# The compnents_ parameter tells us about the unit vector in the new direction(basically i-cap and j-cap values (because originally its two dimensional data) for the x1' and x2' directions.)\n",
    "# These are unit vectors along the new features which hold maximum variance. This is sorted and the first direction holds the information with maximum variance.\n",
    "print(pca.components_)"
   ]
  },
  {
   "cell_type": "code",
   "execution_count": 8,
   "metadata": {},
   "outputs": [
    {
     "name": "stdout",
     "output_type": "stream",
     "text": [
      "[[ 0.27096719  0.96258858]\n",
      " [ 0.96258858 -0.27096719]]\n"
     ]
    }
   ],
   "source": [
    "print(pca_default.components_)"
   ]
  },
  {
   "cell_type": "code",
   "execution_count": 15,
   "metadata": {},
   "outputs": [
    {
     "data": {
      "text/plain": [
       "array([[ 0.99070848,  7.50261555],\n",
       "       [ 1.97703643, 11.00646421],\n",
       "       [ 3.35460926, 15.90017805],\n",
       "       [ 3.94969232, 18.01416153],\n",
       "       [ 4.54477538, 20.12814502],\n",
       "       [ 6.18317813, 25.94843564]])"
      ]
     },
     "execution_count": 15,
     "metadata": {},
     "output_type": "execute_result"
    }
   ],
   "source": [
    "# To bring back the data to original dimensions/directions we can use the inverse_transform function.\n",
    "# If we reduce the feature values we will not be able to get back our data as some information is lost. The values will differ from original values.\n",
    "X_approx = pca.inverse_transform(X_reduced)\n",
    "X_approx"
   ]
  },
  {
   "cell_type": "code",
   "execution_count": 16,
   "metadata": {},
   "outputs": [
    {
     "data": {
      "text/plain": [
       "array([[ 1. ,  7.5],\n",
       "       [ 2. , 11. ],\n",
       "       [ 3. , 16. ],\n",
       "       [ 4. , 18. ],\n",
       "       [ 5. , 20. ],\n",
       "       [ 6. , 26. ]])"
      ]
     },
     "execution_count": 16,
     "metadata": {},
     "output_type": "execute_result"
    }
   ],
   "source": [
    "X_approx_default = pca_default.inverse_transform(X_reduced_default)\n",
    "X_approx_default"
   ]
  },
  {
   "cell_type": "code",
   "execution_count": 12,
   "metadata": {},
   "outputs": [
    {
     "data": {
      "image/png": "[encoded data removed]",
      "text/plain": [
       "<Figure size 432x288 with 1 Axes>"
      ]
     },
     "metadata": {
      "needs_background": "light"
     },
     "output_type": "display_data"
    }
   ],
   "source": [
    "#  Plotting the new x values after reducing in the original direction. After reducing components the point lie on a line as one direction is reduced.\n",
    "plt.plot(X_approx[:, 0], X_approx[:, 1])\n",
    "plt.scatter(x1, x2)\n",
    "plt.show()"
   ]
  },
  {
   "cell_type": "code",
   "execution_count": 13,
   "metadata": {},
   "outputs": [
    {
     "data": {
      "image/png": "[encoded data removed]",
      "text/plain": [
       "<Figure size 432x288 with 1 Axes>"
      ]
     },
     "metadata": {
      "needs_background": "light"
     },
     "output_type": "display_data"
    }
   ],
   "source": [
    "#  Plotting the new x values after reducing in the original direction. After reducing components the point lie on a line as one direction is reduced.\n",
    "plt.plot(X_approx_default[:, 0], X_approx_default[:, 1])\n",
    "plt.scatter(x1, x2)\n",
    "plt.show()"
   ]
  }
 ],
 "metadata": {
  "interpreter": {
   "hash": "ed99d7d0aaa497aa67d7d9f4f636af1d529477fa95da14b096776f42ebe05bfa"
  },
  "kernelspec": {
   "display_name": "Python 3.8.8 ('base')",
   "language": "python",
   "name": "python3"
  },
  "language_info": {
   "codemirror_mode": {
    "name": "ipython",
    "version": 3
   },
   "file_extension": ".py",
   "mimetype": "text/x-python",
   "name": "python",
   "nbconvert_exporter": "python",
   "pygments_lexer": "ipython3",
   "version": "3.8.8"
  },
  "orig_nbformat": 4
 },
 "nbformat": 4,
 "nbformat_minor": 2
}
