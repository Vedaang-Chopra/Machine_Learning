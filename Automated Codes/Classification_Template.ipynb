{
 "cells": [
  {
   "cell_type": "code",
   "execution_count": null,
   "metadata": {},
   "outputs": [],
   "source": [
    "import pandas as pd\n",
    "import numpy as np \n",
    "import matplotlib.pyplot as plt\n",
    "import seaborn as sns"
   ]
  },
  {
   "cell_type": "code",
   "execution_count": null,
   "metadata": {},
   "outputs": [],
   "source": []
  },
  {
   "cell_type": "code",
   "execution_count": null,
   "metadata": {},
   "outputs": [],
   "source": [
    "# Dataset......\n",
    "# Dataset used to build and test the template is any preloaded dataset in sklearn.\n",
    "# It could be be replaced by any dataset of our choice."
   ]
  },
  {
   "cell_type": "code",
   "execution_count": null,
   "metadata": {},
   "outputs": [],
   "source": []
  },
  {
   "cell_type": "code",
   "execution_count": null,
   "metadata": {},
   "outputs": [],
   "source": [
    "class classification_template:\n",
    "    def __init__(self,x_train,x_test,y_train,y_test):\n",
    "        self.x_train = x_train\n",
    "        self.y_train = y_train\n",
    "        self.x_test  = x_test\n",
    "        self.y_test  = y_test\n",
    "    \n",
    "    "
   ]
  },
  {
   "cell_type": "code",
   "execution_count": null,
   "metadata": {},
   "outputs": [],
   "source": [
    "\n",
    "def ML_classifier(x_train,x_test,y_train,y_test,name,classifier):\n",
    "  model= classifier  \n",
    "  optimum_param=cross_validate(estimator=model,X=pd.concat([x_train,x_test]),y=np.hstack((y_train,y_test)),cv=KFold(10,True,0),scoring=['balanced_accuracy','precision_weighted','recall_weighted','f1_weighted'])  \n",
    "  print('***************VALIDATION DATA METRICS(CROSS VALIDATION SCORES) ************************************************')\n",
    "  # print(optimum_param)\n",
    "  print(\"Balanced Accuracy Score is: %.3f%% (%.3f%%)\" % (optimum_param['test_balanced_accuracy'].mean()*100, optimum_param['test_balanced_accuracy'].std()*100))\n",
    "  print(\"Weighted Precison Score  is: %.3f%% (%.3f%%)\" % (optimum_param['test_precision_weighted'].mean()*100, optimum_param['test_precision_weighted'].std()*100))\n",
    "  print(\"Weighted Recall Score is: %.3f%% (%.3f%%)\" % (optimum_param['test_recall_weighted'].mean()*100, optimum_param['test_recall_weighted'].std()*100))\n",
    "  print(\"Weighted F-1 Score is: %.3f%% (%.3f%%)\" % (optimum_param['test_f1_weighted'].mean()*100, optimum_param['test_f1_weighted'].std()*100))\n",
    "  \n",
    "  accuracy_score_mean_value,accuracy_score_std_value=optimum_param['test_balanced_accuracy'].mean()*100,optimum_param['test_balanced_accuracy'].std()*100\n",
    "  precision_score_mean_value,precision_score_std_value=optimum_param['test_precision_weighted'].mean()*100,optimum_param['test_precision_weighted'].std()*100\n",
    "  recall_score_mean_value,recall_score_std_value=optimum_param['test_recall_weighted'].mean()*100,optimum_param['test_recall_weighted'].std()*100\n",
    "  f1_score_mean_value,f1_score_std_value=optimum_param['test_f1_weighted'].mean()*100,optimum_param['test_f1_weighted'].std()*100\n",
    "  \n",
    "  print()\n",
    "  print('***************TESTING DATA METRICS(CURRENT SAMPLE SCORE) ************************************************')\n",
    "\n",
    "  model.fit(x_train, y_train)\n",
    "  y_pred = model.predict(x_test)\n",
    "  print(classification_report(y_test,y_pred))\n",
    "  print(confusion_matrix(y_test,y_pred))\n",
    "  \n",
    "  \n",
    "  ll,ul=y_pred.mean()-1.96*(y_pred.std()/len(y_pred)),y_pred.mean()+1.96*(y_pred.std()/len(y_pred))\n",
    "  print('Lower Limit of Confidence Interval:',ll)\n",
    "  print('Upper Limit of Confidence Interval:',ul)\n",
    "  print('Standard Mean:',y_test.mean())\n",
    "  if y_test.mean() >=ll and y_test.mean()<=ul :\n",
    "    print('95% confidence level')\n",
    "  else:\n",
    "    print('confidence level not achieved')\n",
    "  \n",
    "  name=name+' Default'\n",
    "  path='/content/drive/MyDrive/NLP_Chatbot_Capstone_Project/Trained Default Machine Learning Classifiers/'\n",
    "  with open(path+'Model_'+str(name),'wb') as f:\n",
    "    pickle.dump(model,f)\n",
    "\n",
    "  train_f1_score=f1_score(y_train, model.predict(x_train), average='weighted')\n",
    "  \n",
    "  final_metrics=[train_f1_score,accuracy_score_mean_value,precision_score_mean_value,recall_score_mean_value,f1_score_mean_value,\n",
    "  accuracy_score(y_test, y_pred),precision_score(y_test, y_pred, average='weighted'),\n",
    "  recall_score(y_test, y_pred, average='weighted'),f1_score(y_test, y_pred, average='weighted')]\n",
    "  return final_metrics\n"
   ]
  },
  {
   "cell_type": "code",
   "execution_count": null,
   "metadata": {},
   "outputs": [],
   "source": [
    "\n",
    "\n",
    "def ML_classifier(x_train,x_test,y_train,y_test,name,classifier):\n",
    "      final_metrics=[train_f1_score,accuracy_score_mean_value,precision_score_mean_value,recall_score_mean_value,f1_score_mean_value,\n",
    "      accuracy_score(y_test, y_pred),precision_score(y_test, y_pred, average='weighted'),\n",
    "      recall_score(y_test, y_pred, average='weighted'),f1_score(y_test, y_pred, average='weighted')]\n",
    "      return final_metrics\n"
   ]
  },
  {
   "cell_type": "code",
   "execution_count": null,
   "metadata": {},
   "outputs": [],
   "source": [
    "def cross_validation_fit(classifier,number_of_folds):\n",
    "    self.model= classifier\n",
    "    self.optimum_param=cross_validate(estimator=model,X=pd.concat([x_train,x_test]),y=np.hstack((y_train,y_test)),cv=KFold(number_of_folds,True,0),scoring=['balanced_accuracy','precision_weighted','recall_weighted','f1_weighted'])\n",
    "\n",
    "def print_cross_validation_metrics():\n",
    "    print('***************VALIDATION DATA METRICS(CROSS VALIDATION SCORES) ************************************************')\n",
    "    # print(optimum_param)\n",
    "    print(\"Balanced Accuracy Score is: %.3f%% (%.3f%%)\" % (self.optimum_param['test_balanced_accuracy'].mean()*100, self.optimum_param['test_balanced_accuracy'].std()*100))\n",
    "    print(\"Weighted Precison Score  is: %.3f%% (%.3f%%)\" % (self.optimum_param['test_precision_weighted'].mean()*100, self.optimum_param['test_precision_weighted'].std()*100))\n",
    "    print(\"Weighted Recall Score is: %.3f%% (%.3f%%)\" % (self.optimum_param['test_recall_weighted'].mean()*100, self.optimum_param['test_recall_weighted'].std()*100))\n",
    "    print(\"Weighted F-1 Score is: %.3f%% (%.3f%%)\" % (self.optimum_param['test_f1_weighted'].mean()*100, self.optimum_param['test_f1_weighted'].std()*100))\n",
    "\n",
    "    \n",
    "def save_cross_validation_metrics():\n",
    "    accuracy_score_mean_value=self.optimum_param['test_balanced_accuracy'].mean()*100\n",
    "    accuracy_score_std_value=self.optimum_param['test_balanced_accuracy'].std()*100\n",
    "    precision_score_mean_value=self.optimum_param['test_precision_weighted'].mean()*100\n",
    "    precision_score_std_value=self.optimum_param['test_precision_weighted'].std()*100\n",
    "    recall_score_mean_value=self.optimum_param['test_recall_weighted'].mean()*100\n",
    "    recall_score_std_value=self.optimum_param['test_recall_weighted'].std()*100\n",
    "    f1_score_mean_value=self.optimum_param['test_f1_weighted'].mean()*100\n",
    "    f1_score_std_value=self.optimum_param['test_f1_weighted'].std()*100"
   ]
  },
  {
   "cell_type": "code",
   "execution_count": null,
   "metadata": {},
   "outputs": [],
   "source": [
    "class final_ml_classifier:\n",
    "    \n",
    "\n",
    "\n",
    "def final_ml_fit(classifier):\n",
    "    self.model=classifier\n",
    "    self.model.fit(self.x_train, self.y_train)\n",
    "\n",
    "def prediction_with_ml_classifier():\n",
    "    self.y_pred = model.predict(self.x_test)\n",
    "    \n",
    "\n",
    "def confusion_matrix_final_ml_classifier():\n",
    "    return confusion_matrix(y_test,y_pred)\n",
    "\n",
    "def classification_report_final_ml_classifier():\n",
    "    return classification_report(y_test,y_pred)\n",
    "\n",
    "def print_current_training_sample_metrics():\n",
    "    # Incomplete\n",
    "    print()\n",
    "    print('***************TRAINING DATA METRICS(CURRENT SAMPLE SCORE) ************************************************')\n",
    "\n",
    "def current_training_sample_metrics(): \n",
    "    train_f1_score=f1_score(y_train, model.predict(x_train), average='weighted')\n",
    "    train_f1_score=f1_score(y_train, model.predict(x_train), average='weighted')\n",
    "    train_f1_score=f1_score(y_train, model.predict(x_train), average='weighted')\n",
    "    train_f1_score=f1_score(y_train, model.predict(x_train), average='weighted')\n",
    "\n",
    "    \n",
    "\n",
    "# def saving_final_ml_classfier():\n",
    "#     name=name+' Default'\n",
    "#     path='/content/drive/MyDrive/NLP_Chatbot_Capstone_Project/Trained Default Machine Learning Classifiers/'\n",
    "#     with open(path+'Model_'+str(name),'wb') as f:\n",
    "#         pickle.dump(model,f)\n",
    "\n",
    "    \n",
    "def confidence_interval_prediction(percentile):\n",
    "#     if percentile\n",
    "#     confidence_level=\"95%\"\n",
    "    confidence_level=1.96\n",
    "    lower_limit=self.y_pred.mean()-confidence_level*(self.y_pred.std()/len(self.y_pred))\n",
    "    upper_limit=self.y_pred.mean()+confidence_level*(self.y_pred.std()/len(self.y_pred))\n",
    "    print('Lower Limit of Confidence Interval:',lower_limit)\n",
    "    print('Upper Limit of Confidence Interval:',upper_limit)\n",
    "    print('Standard Mean:',self.y_test.mean())\n",
    "    if self.y_test.mean() >=lower_limit and self.y_test.mean()<=upper_limit :\n",
    "        print('confidence level achieved for '+ percentile +\"%(percentile)\")\n",
    "    else:\n",
    "        print('confidence level not achieved for '+ percentile +\"%(percentile)\")\n"
   ]
  },
  {
   "cell_type": "code",
   "execution_count": null,
   "metadata": {},
   "outputs": [],
   "source": []
  },
  {
   "cell_type": "code",
   "execution_count": null,
   "metadata": {},
   "outputs": [],
   "source": []
  },
  {
   "cell_type": "code",
   "execution_count": null,
   "metadata": {},
   "outputs": [],
   "source": []
  },
  {
   "cell_type": "code",
   "execution_count": null,
   "metadata": {},
   "outputs": [],
   "source": []
  },
  {
   "cell_type": "code",
   "execution_count": null,
   "metadata": {},
   "outputs": [],
   "source": []
  },
  {
   "cell_type": "code",
   "execution_count": null,
   "metadata": {},
   "outputs": [],
   "source": []
  },
  {
   "cell_type": "code",
   "execution_count": null,
   "metadata": {},
   "outputs": [],
   "source": []
  },
  {
   "cell_type": "code",
   "execution_count": null,
   "metadata": {},
   "outputs": [],
   "source": []
  },
  {
   "cell_type": "code",
   "execution_count": null,
   "metadata": {},
   "outputs": [],
   "source": []
  },
  {
   "cell_type": "code",
   "execution_count": null,
   "metadata": {},
   "outputs": [],
   "source": []
  },
  {
   "cell_type": "code",
   "execution_count": null,
   "metadata": {},
   "outputs": [],
   "source": []
  },
  {
   "cell_type": "code",
   "execution_count": null,
   "metadata": {},
   "outputs": [],
   "source": []
  },
  {
   "cell_type": "code",
   "execution_count": null,
   "metadata": {},
   "outputs": [],
   "source": []
  },
  {
   "cell_type": "code",
   "execution_count": null,
   "metadata": {},
   "outputs": [],
   "source": []
  },
  {
   "cell_type": "code",
   "execution_count": null,
   "metadata": {},
   "outputs": [],
   "source": []
  },
  {
   "cell_type": "code",
   "execution_count": null,
   "metadata": {},
   "outputs": [],
   "source": []
  },
  {
   "cell_type": "code",
   "execution_count": null,
   "metadata": {},
   "outputs": [],
   "source": []
  },
  {
   "cell_type": "code",
   "execution_count": null,
   "metadata": {},
   "outputs": [],
   "source": []
  },
  {
   "cell_type": "code",
   "execution_count": null,
   "metadata": {},
   "outputs": [],
   "source": []
  },
  {
   "cell_type": "code",
   "execution_count": null,
   "metadata": {},
   "outputs": [],
   "source": []
  },
  {
   "cell_type": "code",
   "execution_count": null,
   "metadata": {},
   "outputs": [],
   "source": []
  },
  {
   "cell_type": "code",
   "execution_count": null,
   "metadata": {},
   "outputs": [],
   "source": []
  }
 ],
 "metadata": {
  "kernelspec": {
   "display_name": "Python 3",
   "language": "python",
   "name": "python3"
  },
  "language_info": {
   "codemirror_mode": {
    "name": "ipython",
    "version": 3
   },
   "file_extension": ".py",
   "mimetype": "text/x-python",
   "name": "python",
   "nbconvert_exporter": "python",
   "pygments_lexer": "ipython3",
   "version": "3.8.8"
  }
 },
 "nbformat": 4,
 "nbformat_minor": 2
}
